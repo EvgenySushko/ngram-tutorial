{
 "cells": [
  {
   "cell_type": "markdown",
   "metadata": {},
   "source": [
    "# Ngram Tutorial \n",
    "N-gram is a contiguous sequence of n items from a given sequence of text or speech. The items can be phonemes, syllables, letters, words or base pairs according to the application. The n-grams typically are collected from a text or speech corpus.\n",
    "\n",
    "An n-gram of size 1 is referred to as a \"unigram\"; size 2 is a \"bigram\" (or, less commonly, a \"digram\"); size 3 is a \"trigram\". Larger sizes are sometimes referred to by the value of n, e.g., \"four-gram\", \"five-gram\", and so on. [Wikipedia](https://en.wikipedia.org/wiki/N-gram)\n",
    "\n",
    "---\n",
    "### Ngram extraction for feature space construction\n",
    "Below is a very short introduction to ngrams explaining their extraction in examples as well as in code. Source: This [blog post](https://cmry.github.io/notes/ngrams) of Chris Emmery"
   ]
  },
  {
   "cell_type": "code",
   "execution_count": 1,
   "metadata": {
    "collapsed": true
   },
   "outputs": [],
   "source": [
    "def find_ngrams(sentence, n_list):\n",
    "    \"\"\"Magic n-gram function.\"\"\"\n",
    "    inp, grams = sentence.split(), []\n",
    "    for n in n_list:\n",
    "        grams += [' '.join(x) for x in zip(*[inp[i:] for i in range(n)])]\n",
    "    return grams"
   ]
  },
  {
   "cell_type": "code",
   "execution_count": 2,
   "metadata": {
    "collapsed": true
   },
   "outputs": [],
   "source": [
    "class Ngrams:\n",
    "\n",
    "    def __init__(self, n_list):\n",
    "        self.n_list = n_list\n",
    "        self.indices = {}\n",
    "\n",
    "    def fit(self, sentence):\n",
    "        \"\"\"Magic n-gram function fits to vector indices.\"\"\"\n",
    "        i, inp = len(self.indices)-1, sentence.split()\n",
    "        for n in self.n_list:\n",
    "            for x in zip(*[inp[i:] for i in range(n)]):\n",
    "                if self.indices.get(x) == None:\n",
    "                    i += 1\n",
    "                    self.indices.update({x: i})\n",
    "\n",
    "    def transform(self, sentence):\n",
    "        \"\"\"Given a sentence, convert to a gram vector.\"\"\"\n",
    "        v, inp = [0] * len(self.indices), sentence.split()\n",
    "        for n in self.n_list:\n",
    "            for x in zip(*[inp[i:] for i in range(n)]):\n",
    "                if self.indices.get(x) != None:\n",
    "                    v[self.indices[x]] += 1\n",
    "        return v"
   ]
  },
  {
   "cell_type": "code",
   "execution_count": 7,
   "metadata": {
    "collapsed": true
   },
   "outputs": [],
   "source": [
    "ng = Ngrams(n_list=[1,2])"
   ]
  },
  {
   "cell_type": "code",
   "execution_count": 8,
   "metadata": {
    "collapsed": true
   },
   "outputs": [],
   "source": [
    "ng.fit('text about stuff')"
   ]
  },
  {
   "cell_type": "code",
   "execution_count": 9,
   "metadata": {
    "collapsed": false
   },
   "outputs": [
    {
     "data": {
      "text/plain": [
       "[1, 1, 1, 1, 1]"
      ]
     },
     "execution_count": 9,
     "metadata": {},
     "output_type": "execute_result"
    }
   ],
   "source": [
    "ng.transform('text about stuff')"
   ]
  },
  {
   "cell_type": "code",
   "execution_count": 10,
   "metadata": {
    "collapsed": false
   },
   "outputs": [
    {
     "data": {
      "text/plain": [
       "{('about',): 1,\n",
       " ('about', 'stuff'): 4,\n",
       " ('stuff',): 2,\n",
       " ('text',): 0,\n",
       " ('text', 'about'): 3}"
      ]
     },
     "execution_count": 10,
     "metadata": {},
     "output_type": "execute_result"
    }
   ],
   "source": [
    "ng.indices"
   ]
  },
  {
   "cell_type": "code",
   "execution_count": null,
   "metadata": {
    "collapsed": true
   },
   "outputs": [],
   "source": []
  }
 ],
 "metadata": {
  "anaconda-cloud": {},
  "kernelspec": {
   "display_name": "Python [conda env:py35]",
   "language": "python",
   "name": "conda-env-py35-py"
  },
  "language_info": {
   "codemirror_mode": {
    "name": "ipython",
    "version": 3
   },
   "file_extension": ".py",
   "mimetype": "text/x-python",
   "name": "python",
   "nbconvert_exporter": "python",
   "pygments_lexer": "ipython3",
   "version": "3.5.2"
  }
 },
 "nbformat": 4,
 "nbformat_minor": 1
}
